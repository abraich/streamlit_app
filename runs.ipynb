{
 "cells": [
  {
   "cell_type": "code",
   "execution_count": null,
   "metadata": {},
   "outputs": [],
   "source": [
    "from classes import *\n",
    "import SessionState\n",
    "from sklearn.manifold import TSNE\n",
    "\n",
    "# all plot with size = [20,16]\n",
    "plt.rcParams['figure.figsize'] = [20, 16]"
   ]
  },
  {
   "cell_type": "code",
   "execution_count": null,
   "metadata": {},
   "outputs": [],
   "source": [
    "\n",
    "\"\"\"\n",
    "Simulation parameters\n",
    "\"\"\"\n",
    "p_sim = {}\n",
    "p_sim['n_samples'] = 1000\n",
    "p_sim['n_features'] = 25\n",
    "#p_sim['beta'] = [0.01 * (p_sim['n_features'] - i) / p_sim['n_features'] for i in range(0, p_sim['n_features'])]\n",
    "\n",
    "idx = np.arange( p_sim['n_features'])\n",
    "   \n",
    "p_sim['beta'] =(-1) ** idx * np.exp(-idx / 20.)\n",
    "\n",
    "\n",
    "p_sim['alpha'] = 3\n",
    "p_sim['lamb'] = 1\n",
    "p_sim['coef_tt'] = 1.8\n",
    "p_sim['rho'] = 0.1\n",
    "p_sim['kappa'] = 3.\n",
    "p_sim['wd_param'] = 3. #4.\n",
    "\n",
    "\n",
    "\n",
    "p_sim['path_data'] = \"./sim_surv\"\n",
    "\n",
    "\"\"\"\n",
    "Model parameters\n",
    "\"\"\"\n",
    "\n",
    "p_survcaus = {}\n",
    "p_survcaus['num_durations'] = 25\n",
    "p_survcaus['encoded_features'] = 20\n",
    "p_survcaus['alpha_wass'] = 1\n",
    "p_survcaus['batch_size'] = 256\n",
    "p_survcaus['epochs'] = 100\n",
    "p_survcaus['lr'] = 1e-2\n",
    "p_survcaus['patience'] = 10\n"
   ]
  },
  {
   "cell_type": "code",
   "execution_count": null,
   "metadata": {},
   "outputs": [],
   "source": [
    "# sin(πXi1Xi2) + 2(Xi3 − 0.5)2 + Xi4 + 0.5Xi5\n",
    "f1 = lambda x : np.sin(np.pi*x[:,0]*x[:,1] + 2*(x[:,2]-0.5)**2 + x[:,3] + 0.5*x[:,4])\n",
    "\n",
    "# 2 log(1 + exp(Xi1+Xi2+Xi3 )\n",
    "f2 = lambda x : np.log(1 + np.exp(x[:,0] + x[:,1] + x[:,2]))\n",
    "\n",
    "#  (max{Xi1 + Xi2 + Xi3, 0} + max{Xi4 + Xi5, 0}) /2\n",
    "f3 = lambda x : (np.maximum(x[:,0] + x[:,1] + x[:,2], 0) + np.maximum(x[:,3] + x[:,4], 0)) / 2\n",
    "\n",
    "#  max{Xi1 + Xi2, Xi3, 0} + max{Xi4 + Xi5, 0}\n",
    "f4 = lambda x : (np.maximum(x[:,0] + x[:,1], 0) - np.maximum(x[:,3] + x[:,4], 0))\n",
    "\n",
    "\n",
    "p_sim['scheme'] =  Scheme('nonlinear', f1)\n"
   ]
  },
  {
   "cell_type": "code",
   "execution_count": null,
   "metadata": {},
   "outputs": [],
   "source": [
    "p_survcaus, p_sim "
   ]
  },
  {
   "cell_type": "code",
   "execution_count": null,
   "metadata": {},
   "outputs": [],
   "source": [
    "\n",
    "nep = Neptune(\"test\")\n",
    "nep.create_experiment()\n",
    "nep.set_p_survcaus_best(p_survcaus)\n",
    "# simulation\n",
    "nep.run_simulation(p_sim)\n",
    "## tunning\n",
    "# Survcaus\n",
    "nep.run_tunning_survcaus(n_trials = 1)\n",
    "# BART\n",
    "nep.run_tunning_bart(n_trials = 1)\n",
    "# evaluation\n",
    "\n"
   ]
  },
  {
   "cell_type": "markdown",
   "metadata": {},
   "source": [
    "# Tunning"
   ]
  },
  {
   "cell_type": "code",
   "execution_count": null,
   "metadata": {},
   "outputs": [],
   "source": [
    "\n",
    "    \n",
    "nep.run_tunning_survcaus(n_trials = 1)"
   ]
  },
  {
   "cell_type": "code",
   "execution_count": null,
   "metadata": {},
   "outputs": [],
   "source": [
    "nep.run_tunning_bart(n_trials = 1)"
   ]
  },
  {
   "cell_type": "markdown",
   "metadata": {},
   "source": [
    "# Training "
   ]
  },
  {
   "cell_type": "code",
   "execution_count": null,
   "metadata": {},
   "outputs": [],
   "source": [
    "nep.launch_benchmark()"
   ]
  },
  {
   "cell_type": "code",
   "execution_count": null,
   "metadata": {},
   "outputs": [],
   "source": [
    "nep.bilan_csv\n"
   ]
  },
  {
   "cell_type": "code",
   "execution_count": null,
   "metadata": {},
   "outputs": [],
   "source": [
    "nep.box_plot_pehe\n",
    "    \n"
   ]
  },
  {
   "cell_type": "markdown",
   "metadata": {},
   "source": [
    "modifier S,\n",
    "experiment\n",
    "log - neptune\n",
    "tables \n",
    "lancer :  wd, lin/nonlin, \n",
    "pas oublier brca !! \n"
   ]
  },
  {
   "cell_type": "code",
   "execution_count": null,
   "metadata": {},
   "outputs": [],
   "source": [
    "nep.box_plot_pehe"
   ]
  },
  {
   "cell_type": "code",
   "execution_count": null,
   "metadata": {},
   "outputs": [],
   "source": [
    "nep.box_plot_surv0"
   ]
  },
  {
   "cell_type": "code",
   "execution_count": null,
   "metadata": {},
   "outputs": [],
   "source": [
    "nep.box_plot_surv1"
   ]
  },
  {
   "cell_type": "code",
   "execution_count": null,
   "metadata": {},
   "outputs": [],
   "source": [
    "nep.box_plot_FSM"
   ]
  },
  {
   "cell_type": "code",
   "execution_count": null,
   "metadata": {},
   "outputs": [],
   "source": [
    "\n",
    "%matplotlib inline\n",
    "\n",
    "nep.get_plots_patients()\n"
   ]
  },
  {
   "cell_type": "code",
   "execution_count": null,
   "metadata": {},
   "outputs": [],
   "source": [
    "nep.kill_experiment()"
   ]
  },
  {
   "cell_type": "markdown",
   "metadata": {},
   "source": [
    "WD "
   ]
  },
  {
   "cell_type": "code",
   "execution_count": null,
   "metadata": {},
   "outputs": [],
   "source": [
    "p_survcaus, p_sim "
   ]
  },
  {
   "cell_type": "code",
   "execution_count": null,
   "metadata": {},
   "outputs": [],
   "source": [
    "WD_param_list= [0,5,10,20]\n",
    "nep_WD = Neptune(\"WD_v3\")\n",
    "nep_WD.create_experiment()\n",
    "\n",
    "\n",
    "for wd_param in WD_param_list:\n",
    "    p_sim['wd_param'] = wd_param\n",
    "    nep_WD.set_p_survcaus_best(p_survcaus)\n",
    "    nep_WD.run_simulation(p_sim)\n",
    "    nep_WD.run_tunning_survcaus(n_trials = 1)\n",
    "    nep_WD.run_tunning_bart(n_trials = 1)\n",
    "    nep_WD.launch_benchmark()\n",
    "    nep_WD.get_plots_patients()\n",
    "\n",
    "\n",
    "nep_WD.concatenate_list_bilan()"
   ]
  }
 ],
 "metadata": {
  "interpreter": {
   "hash": "11c6ae450426ff67e02db51d48536f215792ac6d7e270c76f6c7b3ccd10304c5"
  },
  "kernelspec": {
   "display_name": "Python 3.8.5 64-bit ('base': conda)",
   "name": "python3"
  },
  "language_info": {
   "codemirror_mode": {
    "name": "ipython",
    "version": 3
   },
   "file_extension": ".py",
   "mimetype": "text/x-python",
   "name": "python",
   "nbconvert_exporter": "python",
   "pygments_lexer": "ipython3",
   "version": "3.8.5"
  },
  "orig_nbformat": 4
 },
 "nbformat": 4,
 "nbformat_minor": 2
}
